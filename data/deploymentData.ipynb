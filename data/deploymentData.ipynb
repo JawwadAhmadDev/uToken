{
 "cells": [
  {
   "cell_type": "markdown",
   "metadata": {},
   "source": [
    "# This file will contains all the data required at the time of deployment of uToken Smart Contract"
   ]
  },
  {
   "cell_type": "markdown",
   "metadata": {},
   "source": [
    "## Ethereum Chain"
   ]
  },
  {
   "cell_type": "markdown",
   "metadata": {},
   "source": [
    "### List of Allowed Tokens"
   ]
  },
  {
   "cell_type": "code",
   "execution_count": 7,
   "metadata": {},
   "outputs": [
    {
     "name": "stdout",
     "output_type": "stream",
     "text": [
      "0\n"
     ]
    }
   ],
   "source": [
    "#                                                  WETHOD                 ,                      USDT                                        USDC                                             Matic                                 WBTC                                           DAI                                             SHIBA INU                                    CHAIN LINK                                       UNISWAP                                         AAVE                                       1INCH                                          ENS                                         MAKER                                       SYNTETIX                                   STETH                                             WSTETH                                          APE COIN                                      ROCKET POOL                                ROCKET POOL ETH                                  COMPOUND                                     GNOSIS                                           KEEP TOKEN                               KEEPER TOKEN                                   LIDO DAO TOKEN                                 OCEAN TOKEN                                  REDICLE TOKEN                                ALCHEMIX                                        ARAGON                                       BADGER                                      BIT DAO                                          GHO TOKEN\n",
    "allowed_tokens : list[str] = [\"0xC02aaA39b223FE8D0A0e5C4F27eAD9083C756Cc2\", \"0xdac17f958d2ee523a2206206994597c13d831ec7\", \"0xa0b86991c6218b36c1d19d4a2e9eb0ce3606eb48\", \"0x455e53CBB86018Ac2B8092FdCd39d8444aFFC3F6\", \"0x2260fac5e5542a773aa44fbcfedf7c193bc2c599\", \"0x6b175474e89094c44da98b954eedeac495271d0f\", \"0x95ad61b0a150d79219dcf64e1e6cc01f0b64c4ce\", \"0x514910771af9ca656af840dff83e8264ecf986ca\", \"0x1f9840a85d5af5bf1d1762f925bdaddc4201f984\", \"0x7Fc66500c84A76Ad7e9c93437bFc5Ac33E2DDaE9\", \"0x111111111117dc0aa78b770fa6a738034120c302\", \"0xC18360217D8F7Ab5e7c516566761Ea12Ce7F9D72\", \"0x9f8F72aA9304c8B593d555F12eF6589cC3A579A2\", \"0xc011a73ee8576fb46f5e1c5751ca3b9fe0af2a6f\", \"0xae7ab96520de3a18e5e111b5eaab095312d7fe84\", \"0x7f39C581F595B53c5cb19bD0b3f8dA6c935E2Ca0\", \"0x4d224452801aced8b2f0aebe155379bb5d594381\", \"0xd33526068d116ce69f19a9ee46f0bd304f21a51f\", \"0xae78736cd615f374d3085123a210448e74fc6393\", \"0xc00e94cb662c3520282e6f5717214004a7f26888\", \"0x6810e776880c02933d47db1b9fc05908e5386b96\", \"0x85eee30c52b0b379b046fb0f85f4f3dc3009afec\", \"0x1ceb5cb57c4d4e2b2433641b95dd330a33185a44\", \"0x5a98fcbea516cf06857215779fd812ca3bef1b32\", \"0x967da4048cd07ab37855c090aaf366e4ce1b9f48\", \"0x31c8eacbffdd875c74b94b077895bd78cf1e64a3\", \"0xdbdb4d16eda451d0503b854cf79d55697f90c8df\", \"0xa117000000f279d81a1d3cc75430faa017fa5a2e\", \"0x3472a5a71965499acd81997a54bba8d852c6e53d\", \"0x1A4b46696b2bB4794Eb3D4c26f1c55F9170fa4C5\", \"0x40D16FC0246aD3160Ccc09B8D0D3A2cD28aE6C2f\"]\n"
   ]
  },
  {
   "cell_type": "markdown",
   "metadata": {},
   "source": [
    "### Number of Allowed Tokens"
   ]
  },
  {
   "cell_type": "code",
   "execution_count": 11,
   "metadata": {},
   "outputs": [
    {
     "data": {
      "text/plain": [
       "31"
      ]
     },
     "execution_count": 11,
     "metadata": {},
     "output_type": "execute_result"
    }
   ],
   "source": [
    "len(allowed_tokens)"
   ]
  }
 ],
 "metadata": {
  "kernelspec": {
   "display_name": "Python 3",
   "language": "python",
   "name": "python3"
  },
  "language_info": {
   "codemirror_mode": {
    "name": "ipython",
    "version": 3
   },
   "file_extension": ".py",
   "mimetype": "text/x-python",
   "name": "python",
   "nbconvert_exporter": "python",
   "pygments_lexer": "ipython3",
   "version": "3.11.5"
  },
  "orig_nbformat": 4
 },
 "nbformat": 4,
 "nbformat_minor": 2
}
