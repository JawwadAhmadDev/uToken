{
 "cells": [
  {
   "cell_type": "markdown",
   "metadata": {},
   "source": [
    "# This file will contains all the data required at the time of deployment of uToken Smart Contract"
   ]
  },
  {
   "cell_type": "markdown",
   "metadata": {},
   "source": [
    "## Ethereum Chain"
   ]
  },
  {
   "cell_type": "markdown",
   "metadata": {},
   "source": [
    "### List of WhiteList Platforms\n",
    "```\n",
    "Spark\n",
    "Synthetix\n",
    "GMX\n",
    "Morpho\n",
    "Eigenpie\n",
    "Radiant\n",
    "Benqi\n",
    "Nexus Mutual\n",
    "Fraxlend\n",
    "Silo Finance\n",
    "Enzyme\n",
    "Abracadabra\n",
    "Loopring\n",
    "Kinza Finance\n",
    "Set Protocol\n",
    "l2pass\n",
    "Stargate Finance\n",
    "Wormhole\n",
    "Jumper exchange\n",
    "Odos protocol \n",
    "WOOecosystem\n",
    "Open Ocean Global\n",
    "Rango Exchange\n",
    "DefiEdge\n",
    "Connext Network\n",
    "Polymarket\n",
    "VirtuSwap\n",
    "Curve\n",
    "PearlFi\n",
    "Jarvis Network\n",
    "```"
   ]
  },
  {
   "cell_type": "markdown",
   "metadata": {},
   "source": [
    "### List of Allowed Tokens\n",
    "```\n",
    "[\"0xC02aaA39b223FE8D0A0e5C4F27eAD9083C756Cc2\", \"0xdac17f958d2ee523a2206206994597c13d831ec7\", \"0xa0b86991c6218b36c1d19d4a2e9eb0ce3606eb48\", \"0x455e53CBB86018Ac2B8092FdCd39d8444aFFC3F6\", \"0x2260fac5e5542a773aa44fbcfedf7c193bc2c599\", \"0x6b175474e89094c44da98b954eedeac495271d0f\", \"0x95ad61b0a150d79219dcf64e1e6cc01f0b64c4ce\", \"0x514910771af9ca656af840dff83e8264ecf986ca\", \"0x1f9840a85d5af5bf1d1762f925bdaddc4201f984\", \"0x7Fc66500c84A76Ad7e9c93437bFc5Ac33E2DDaE9\", \"0x111111111117dc0aa78b770fa6a738034120c302\", \"0xC18360217D8F7Ab5e7c516566761Ea12Ce7F9D72\", \"0x9f8F72aA9304c8B593d555F12eF6589cC3A579A2\", \"0xc011a73ee8576fb46f5e1c5751ca3b9fe0af2a6f\", \"0xae7ab96520de3a18e5e111b5eaab095312d7fe84\", \"0x7f39C581F595B53c5cb19bD0b3f8dA6c935E2Ca0\", \"0x4d224452801aced8b2f0aebe155379bb5d594381\", \"0xd33526068d116ce69f19a9ee46f0bd304f21a51f\", \"0xae78736cd615f374d3085123a210448e74fc6393\", \"0xc00e94cb662c3520282e6f5717214004a7f26888\", \"0x6810e776880c02933d47db1b9fc05908e5386b96\", \"0x85eee30c52b0b379b046fb0f85f4f3dc3009afec\", \"0x1ceb5cb57c4d4e2b2433641b95dd330a33185a44\", \"0x5a98fcbea516cf06857215779fd812ca3bef1b32\", \"0x31c8eacbffdd875c74b94b077895bd78cf1e64a3\", \"0xdbdb4d16eda451d0503b854cf79d55697f90c8df\", \"0xa117000000f279d81a1d3cc75430faa017fa5a2e\", \"0x3472a5a71965499acd81997a54bba8d852c6e53d\", \"0x1A4b46696b2bB4794Eb3D4c26f1c55F9170fa4C5\", \"0x40D16FC0246aD3160Ccc09B8D0D3A2cD28aE6C2f\", \"0xf1C9acDc66974dFB6dEcB12aA385b9cD01190E38\", \"0x856c4Efb76C1D1AE02e20CEB03A2A6a08b0b8dC3\",\n",
    "\"0xE95A203B1a91a908F9B9CE46459d101078c2c3cb\", \"0xA35b1B31Ce002FBF2058D22F30f95D405200A15b\", \"0xD9A442856C234a39a81a089C06451EBAa4306a72\", \"0x3432b6a60d23ca0dfca7761b7ab56459d9c964d0\", \"0x853d955acef822db058eb8505911ed77f175b99e\", \"0x5E8422345238F34275888049021821E8E08CAa1f\", \"0xac3E018457B222d93114458476f3E3416Abbe38F\", \"0x9994E35Db50125E0DF82e4c2dde62496CE330999\", \"0xd7c49cee7e9188cca6ad8ff264c1da2e69d4cf3b\", \"0x6f80310CA7F2C654691D1383149Fa1A57d8AB1f8\", \"0xec67005c4E498Ec7f55E092bd1d35cbC47C91892\", \"0xBBbbCA6A901c926F240b89EacB641d8Aec7AEafD\", \"0xBe9895146f7AF43049ca1c1AE358B0541Ea49704\", \"0xf951e335afb289353dc249e82926178eac7ded78\"]\n",
    "```"
   ]
  },
  {
   "cell_type": "code",
   "execution_count": 2,
   "metadata": {},
   "outputs": [],
   "source": [
    "#                                                  WETHOD                 ,                      USDT                                        USDC                                             Matic                                 WBTC                                           DAI                                             SHIBA INU                                    CHAIN LINK                                       UNISWAP                                         AAVE                                       1INCH                                          ENS                                         MAKER                                       SYNTETIX                                   STETH                                             WSTETH                                          APE COIN                                      ROCKET POOL                                ROCKET POOL ETH                                  COMPOUND                                     GNOSIS                                           KEEP TOKEN                               KEEPER TOKEN                                   LIDO DAO TOKEN                                     REDICLE TOKEN                                ALCHEMIX                                        ARAGON                                       BADGER                                      BIT DAO                                          GHO TOKEN                                            StakeWise Staked ETH                        Origin Staked ETH                           Ankr Staked ETH                             Stader Staked ETH                               pufETH (PUFETH)                                Frax Shares (FXS)                            Frax (FRAX)                                 Frax Finance Ether (FRXETH)                     Frax Staked ETH (SFRXETH)                   Morpho Token                                Nexus                                           Silo Governance                                 Melon Token                                     LoopringCoin V2                         Coinbase Staked ETH                                 Swell Staked ETH\n",
    "allowed_tokens_ethereum : list[str] = [\"0xC02aaA39b223FE8D0A0e5C4F27eAD9083C756Cc2\", \"0xdac17f958d2ee523a2206206994597c13d831ec7\", \"0xa0b86991c6218b36c1d19d4a2e9eb0ce3606eb48\", \"0x455e53CBB86018Ac2B8092FdCd39d8444aFFC3F6\", \"0x2260fac5e5542a773aa44fbcfedf7c193bc2c599\", \"0x6b175474e89094c44da98b954eedeac495271d0f\", \"0x95ad61b0a150d79219dcf64e1e6cc01f0b64c4ce\", \"0x514910771af9ca656af840dff83e8264ecf986ca\", \"0x1f9840a85d5af5bf1d1762f925bdaddc4201f984\", \"0x7Fc66500c84A76Ad7e9c93437bFc5Ac33E2DDaE9\", \"0x111111111117dc0aa78b770fa6a738034120c302\", \"0xC18360217D8F7Ab5e7c516566761Ea12Ce7F9D72\", \"0x9f8F72aA9304c8B593d555F12eF6589cC3A579A2\", \"0xc011a73ee8576fb46f5e1c5751ca3b9fe0af2a6f\", \"0xae7ab96520de3a18e5e111b5eaab095312d7fe84\", \"0x7f39C581F595B53c5cb19bD0b3f8dA6c935E2Ca0\", \"0x4d224452801aced8b2f0aebe155379bb5d594381\", \"0xd33526068d116ce69f19a9ee46f0bd304f21a51f\", \"0xae78736cd615f374d3085123a210448e74fc6393\", \"0xc00e94cb662c3520282e6f5717214004a7f26888\", \"0x6810e776880c02933d47db1b9fc05908e5386b96\", \"0x85eee30c52b0b379b046fb0f85f4f3dc3009afec\", \"0x1ceb5cb57c4d4e2b2433641b95dd330a33185a44\", \"0x5a98fcbea516cf06857215779fd812ca3bef1b32\", \"0x31c8eacbffdd875c74b94b077895bd78cf1e64a3\", \"0xdbdb4d16eda451d0503b854cf79d55697f90c8df\", \"0xa117000000f279d81a1d3cc75430faa017fa5a2e\", \"0x3472a5a71965499acd81997a54bba8d852c6e53d\", \"0x1A4b46696b2bB4794Eb3D4c26f1c55F9170fa4C5\", \"0x40D16FC0246aD3160Ccc09B8D0D3A2cD28aE6C2f\", \"0xf1C9acDc66974dFB6dEcB12aA385b9cD01190E38\", \"0x856c4Efb76C1D1AE02e20CEB03A2A6a08b0b8dC3\", \"0xE95A203B1a91a908F9B9CE46459d101078c2c3cb\", \"0xA35b1B31Ce002FBF2058D22F30f95D405200A15b\", \"0xD9A442856C234a39a81a089C06451EBAa4306a72\", \"0x3432b6a60d23ca0dfca7761b7ab56459d9c964d0\", \"0x853d955acef822db058eb8505911ed77f175b99e\", \"0x5E8422345238F34275888049021821E8E08CAa1f\", \"0xac3E018457B222d93114458476f3E3416Abbe38F\", \"0x9994E35Db50125E0DF82e4c2dde62496CE330999\", \"0xd7c49cee7e9188cca6ad8ff264c1da2e69d4cf3b\", \"0x6f80310CA7F2C654691D1383149Fa1A57d8AB1f8\", \"0xec67005c4E498Ec7f55E092bd1d35cbC47C91892\", \"0xBBbbCA6A901c926F240b89EacB641d8Aec7AEafD\", \"0xBe9895146f7AF43049ca1c1AE358B0541Ea49704\", \"0xf951e335afb289353dc249e82926178eac7ded78\"]"
   ]
  },
  {
   "cell_type": "markdown",
   "metadata": {},
   "source": [
    "### check duplicacy"
   ]
  },
  {
   "cell_type": "code",
   "execution_count": 3,
   "metadata": {},
   "outputs": [
    {
     "name": "stdout",
     "output_type": "stream",
     "text": [
      "False\n"
     ]
    }
   ],
   "source": [
    "def has_duplicates(lst):\n",
    "    return len(lst) != len(set(lst))\n",
    "\n",
    "print(has_duplicates(allowed_tokens_ethereum))\n"
   ]
  },
  {
   "cell_type": "markdown",
   "metadata": {},
   "source": [
    "### Number of Allowed Tokens"
   ]
  },
  {
   "cell_type": "code",
   "execution_count": 4,
   "metadata": {},
   "outputs": [
    {
     "data": {
      "text/plain": [
       "46"
      ]
     },
     "execution_count": 4,
     "metadata": {},
     "output_type": "execute_result"
    }
   ],
   "source": [
    "len(allowed_tokens_ethereum)"
   ]
  },
  {
   "cell_type": "markdown",
   "metadata": {},
   "source": [
    "### check if token exist in list or not"
   ]
  },
  {
   "cell_type": "code",
   "execution_count": 30,
   "metadata": {},
   "outputs": [
    {
     "name": "stdout",
     "output_type": "stream",
     "text": [
      "False\n"
     ]
    }
   ],
   "source": [
    "def is_token_in_list(token_address):\n",
    "    return token_address in allowed_tokens_ethereum\n",
    "\n",
    "token : str = input(\"Enter token you want to check\")\n",
    "print(is_token_in_list(token))\n",
    "\n",
    "### check if token exist in list or not"
   ]
  },
  {
   "cell_type": "markdown",
   "metadata": {},
   "source": [
    "## Polygon Chain"
   ]
  },
  {
   "cell_type": "markdown",
   "metadata": {},
   "source": [
    "### List of Allowed Tokens\n",
    "```\n",
    "[\"0x7ceB23fD6bC0adD59E62ac25578270cFf1b9f619\", \"0xc2132D05D31c914a87C6611C10748AEb04B58e8F\", \"0x2791Bca1f2de4661ED88A30C99A7a9449Aa84174\", \"0x0000000000000000000000000000000000001010\", \"0x1BFD67037B42Cf73acF2047067bd4F2C47D9BfD6\", \"0x8f3Cf7ad23Cd3CaDbD9735AFf958023239c6A063\", \"0x6f8a06447Ff6FcF75d803135a7de15CE88C1d4ec\", \"0x53E0bca35eC356BD5ddDFebbD1Fc0fD03FaBad39\", \"0xb33EaAd8d922B1083446DC23f610c2567fB5180f\", \"0xD6DF932A45C0f255f85145f286eA0b292B21C90B\", \"0x9c2C5fd7b07E95EE044DDeba0E97a665F142394f\", \"0xbD7A5Cf51d22930B8B3Df6d834F9BCEf90EE7c4f\", \"0x6f7C932e7684666C9fd1d44527765433e01fF61d\", \"0x50B728D8D964fd00C2d0AAD81718b71311feF68a\", \"0x0266F4F08D82372CF0FcbCCc0Ff74309089c74d1\", \"0x8505b9d2254A7Ae468c0E9dd10Ccea3A837aef5c\", \"0x5FFD62D3C3eE2E81C00A7b9079FB248e7dF024A8\", \"0xC3C7d422809852031b44ab29EEC9F1EfF2A58756\", \"0x282d8efCe846A88B159800bd4130ad77443Fa1A1\"]\n",
    "```"
   ]
  },
  {
   "cell_type": "code",
   "execution_count": 15,
   "metadata": {},
   "outputs": [],
   "source": [
    "#                                                     WETH                                               USDT                                         USDC                                        MATIC TOKEN                                     WBTC                                        DAI                                          SHIBA INU                                    CHAIN LINK                                    UNISWAP                                       AAVE                                         1INCH                                                  ENS                                      MAKER                                        SYNTHATIX                                ROCKET POOL                                          COMPOUND                                    GNOSIS                                       LIDO DAO                                    OCEAN TOKEN\n",
    "allowed_tokens_polygon : list[str] = [\"0x7ceB23fD6bC0adD59E62ac25578270cFf1b9f619\", \"0xc2132D05D31c914a87C6611C10748AEb04B58e8F\", \"0x2791Bca1f2de4661ED88A30C99A7a9449Aa84174\", \"0x0000000000000000000000000000000000001010\", \"0x1BFD67037B42Cf73acF2047067bd4F2C47D9BfD6\", \"0x8f3Cf7ad23Cd3CaDbD9735AFf958023239c6A063\", \"0x6f8a06447Ff6FcF75d803135a7de15CE88C1d4ec\", \"0x53E0bca35eC356BD5ddDFebbD1Fc0fD03FaBad39\", \"0xb33EaAd8d922B1083446DC23f610c2567fB5180f\", \"0xD6DF932A45C0f255f85145f286eA0b292B21C90B\", \"0x9c2C5fd7b07E95EE044DDeba0E97a665F142394f\", \"0xbD7A5Cf51d22930B8B3Df6d834F9BCEf90EE7c4f\", \"0x6f7C932e7684666C9fd1d44527765433e01fF61d\", \"0x50B728D8D964fd00C2d0AAD81718b71311feF68a\", \"0x0266F4F08D82372CF0FcbCCc0Ff74309089c74d1\", \"0x8505b9d2254A7Ae468c0E9dd10Ccea3A837aef5c\", \"0x5FFD62D3C3eE2E81C00A7b9079FB248e7dF024A8\", \"0xC3C7d422809852031b44ab29EEC9F1EfF2A58756\", \"0x282d8efCe846A88B159800bd4130ad77443Fa1A1\"]"
   ]
  },
  {
   "cell_type": "markdown",
   "metadata": {},
   "source": [
    "### check duplicacy"
   ]
  },
  {
   "cell_type": "code",
   "execution_count": 22,
   "metadata": {},
   "outputs": [
    {
     "name": "stdout",
     "output_type": "stream",
     "text": [
      "False\n"
     ]
    }
   ],
   "source": [
    "def has_duplicates(lst):\n",
    "    return len(lst) != len(set(lst))\n",
    "\n",
    "print(has_duplicates(allowed_tokens_polygon))"
   ]
  },
  {
   "cell_type": "markdown",
   "metadata": {},
   "source": [
    "### Number of allowed tokens"
   ]
  },
  {
   "cell_type": "code",
   "execution_count": 16,
   "metadata": {},
   "outputs": [
    {
     "data": {
      "text/plain": [
       "19"
      ]
     },
     "execution_count": 16,
     "metadata": {},
     "output_type": "execute_result"
    }
   ],
   "source": [
    "len(allowed_tokens_polygon)"
   ]
  },
  {
   "cell_type": "markdown",
   "metadata": {},
   "source": [
    "## Optimism Chain"
   ]
  },
  {
   "cell_type": "markdown",
   "metadata": {},
   "source": [
    "### List of Allowed Tokens\n",
    "```\n",
    "[\"0x94b008aA00579c1307B0EF2c499aD98a8ce58e58\", \"0x7F5c764cBc14f9669B88837ca1490cCa17c31607\", \"0x68f180fcCe6836688e9084f035309E29Bf0A2095\", \"0xDA10009cBd5D07dd0CeCc66161FC93D7c9000da1\", \"0x350a791Bfc2C21F9Ed5d10980Dad2e2638ffa7f6\", \"0x6fd9d7AD17242c41f7131d257212c54A0e816691\", \"0x76FB31fb4af56892A25e32cFC43De717950c9278\", \"0x8700dAec35aF8Ff88c16BdF0418774CB3D7599B4\", \"0xE405de8F52ba7559f9df3C368500B6E6ae6Cee49\", \"0x1F32b1c2345538c0c6f582fCB022739c4A194Ebb\", \"0x4200000000000000000000000000000000000042\", \"0xFdb794692724153d1488CcdBE0C56c252596735F\"]\n",
    "```"
   ]
  },
  {
   "cell_type": "code",
   "execution_count": 23,
   "metadata": {},
   "outputs": [],
   "source": [
    "#                                         USDT                                               USDC                                        WBTC                                            DAI                                     CHAIN LINK                                       UNISWAP                                             AAVE                                   SYNTHATIX                                        STETH                                       WSTETH                                          OPTIMISM                                  LIDO DAO\n",
    "allowed_tokens_optimism = [\"0x94b008aA00579c1307B0EF2c499aD98a8ce58e58\", \"0x7F5c764cBc14f9669B88837ca1490cCa17c31607\", \"0x68f180fcCe6836688e9084f035309E29Bf0A2095\", \"0xDA10009cBd5D07dd0CeCc66161FC93D7c9000da1\", \"0x350a791Bfc2C21F9Ed5d10980Dad2e2638ffa7f6\", \"0x6fd9d7AD17242c41f7131d257212c54A0e816691\", \"0x76FB31fb4af56892A25e32cFC43De717950c9278\", \"0x8700dAec35aF8Ff88c16BdF0418774CB3D7599B4\", \"0xE405de8F52ba7559f9df3C368500B6E6ae6Cee49\", \"0x1F32b1c2345538c0c6f582fCB022739c4A194Ebb\", \"0x4200000000000000000000000000000000000042\", \"0xFdb794692724153d1488CcdBE0C56c252596735F\"]"
   ]
  },
  {
   "cell_type": "markdown",
   "metadata": {},
   "source": [
    "### check duplicacy"
   ]
  },
  {
   "cell_type": "code",
   "execution_count": 25,
   "metadata": {},
   "outputs": [
    {
     "name": "stdout",
     "output_type": "stream",
     "text": [
      "False\n"
     ]
    }
   ],
   "source": [
    "def has_duplicates(lst):\n",
    "    return len(lst) != len(set(lst))\n",
    "\n",
    "print(has_duplicates(allowed_tokens_polygon))"
   ]
  },
  {
   "cell_type": "markdown",
   "metadata": {},
   "source": [
    "### Number of Allowed Tokens"
   ]
  },
  {
   "cell_type": "code",
   "execution_count": 24,
   "metadata": {},
   "outputs": [
    {
     "data": {
      "text/plain": [
       "12"
      ]
     },
     "execution_count": 24,
     "metadata": {},
     "output_type": "execute_result"
    }
   ],
   "source": [
    "len(allowed_tokens_optimism)"
   ]
  }
 ],
 "metadata": {
  "kernelspec": {
   "display_name": "Python 3",
   "language": "python",
   "name": "python3"
  },
  "language_info": {
   "codemirror_mode": {
    "name": "ipython",
    "version": 3
   },
   "file_extension": ".py",
   "mimetype": "text/x-python",
   "name": "python",
   "nbconvert_exporter": "python",
   "pygments_lexer": "ipython3",
   "version": "3.12.4"
  },
  "orig_nbformat": 4
 },
 "nbformat": 4,
 "nbformat_minor": 2
}
